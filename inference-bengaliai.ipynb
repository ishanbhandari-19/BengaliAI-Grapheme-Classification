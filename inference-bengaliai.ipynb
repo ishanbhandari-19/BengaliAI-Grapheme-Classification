{
 "cells": [
  {
   "cell_type": "code",
   "execution_count": 1,
   "metadata": {
    "execution": {
     "iopub.execute_input": "2021-02-01T04:15:52.584399Z",
     "iopub.status.busy": "2021-02-01T04:15:52.583790Z",
     "iopub.status.idle": "2021-02-01T04:16:14.997766Z",
     "shell.execute_reply": "2021-02-01T04:16:14.997148Z"
    },
    "papermill": {
     "duration": 22.427888,
     "end_time": "2021-02-01T04:16:14.997958",
     "exception": false,
     "start_time": "2021-02-01T04:15:52.570070",
     "status": "completed"
    },
    "tags": []
   },
   "outputs": [],
   "source": [
    "!pip install --no-deps '../input/timm-package/timm-0.1.26-py3-none-any.whl' > /dev/null"
   ]
  },
  {
   "cell_type": "code",
   "execution_count": 2,
   "metadata": {
    "execution": {
     "iopub.execute_input": "2021-02-01T04:16:15.018189Z",
     "iopub.status.busy": "2021-02-01T04:16:15.017445Z",
     "iopub.status.idle": "2021-02-01T04:16:18.942538Z",
     "shell.execute_reply": "2021-02-01T04:16:18.941453Z"
    },
    "papermill": {
     "duration": 3.936948,
     "end_time": "2021-02-01T04:16:18.942678",
     "exception": false,
     "start_time": "2021-02-01T04:16:15.005730",
     "status": "completed"
    },
    "tags": []
   },
   "outputs": [],
   "source": [
    "import glob\n",
    "import torch\n",
    "import albumentations\n",
    "import pandas as pd\n",
    "import numpy as np\n",
    "\n",
    "from tqdm import tqdm\n",
    "from PIL import Image\n",
    "import joblib\n",
    "import torch.nn as nn\n",
    "from torch.nn import functional as F"
   ]
  },
  {
   "cell_type": "code",
   "execution_count": 3,
   "metadata": {
    "execution": {
     "iopub.execute_input": "2021-02-01T04:16:18.963028Z",
     "iopub.status.busy": "2021-02-01T04:16:18.961477Z",
     "iopub.status.idle": "2021-02-01T04:16:18.963668Z",
     "shell.execute_reply": "2021-02-01T04:16:18.964064Z"
    },
    "papermill": {
     "duration": 0.014063,
     "end_time": "2021-02-01T04:16:18.964187",
     "exception": false,
     "start_time": "2021-02-01T04:16:18.950124",
     "status": "completed"
    },
    "tags": []
   },
   "outputs": [],
   "source": [
    "MODEL_MEAN = (0.485, 0.456, 0.406)\n",
    "MODEL_STD = (0.229, 0.224, 0.225)\n",
    "IMG_HEIGHT = 137\n",
    "IMG_WIDTH = 236\n",
    "DEVICE=\"cuda\""
   ]
  },
  {
   "cell_type": "code",
   "execution_count": 4,
   "metadata": {
    "execution": {
     "iopub.execute_input": "2021-02-01T04:16:18.984679Z",
     "iopub.status.busy": "2021-02-01T04:16:18.984138Z",
     "iopub.status.idle": "2021-02-01T04:16:19.239996Z",
     "shell.execute_reply": "2021-02-01T04:16:19.238730Z"
    },
    "papermill": {
     "duration": 0.26867,
     "end_time": "2021-02-01T04:16:19.240138",
     "exception": false,
     "start_time": "2021-02-01T04:16:18.971468",
     "status": "completed"
    },
    "tags": []
   },
   "outputs": [],
   "source": [
    "import timm\n",
    "\n",
    "class bengalimodel(nn.Module):\n",
    "    def __init__(self, backbone = 'resnet18'):\n",
    "        super(bengalimodel,self).__init__()\n",
    "        self.backbone = timm.create_model(backbone, pretrained = False)\n",
    "        self.l1 = nn.Linear(1000, 168)\n",
    "        self.l2 = nn.Linear(1000, 11)\n",
    "        self.l3 = nn.Linear(1000, 7)\n",
    "        \n",
    "    def forward(self,x):\n",
    "        x = self.backbone(x)\n",
    "        l1 = self.l1(x)\n",
    "        l2 = self.l2(x)\n",
    "        l3 = self.l3(x)\n",
    "        \n",
    "        return l1,l2,l3"
   ]
  },
  {
   "cell_type": "code",
   "execution_count": 5,
   "metadata": {
    "execution": {
     "iopub.execute_input": "2021-02-01T04:16:19.264670Z",
     "iopub.status.busy": "2021-02-01T04:16:19.262992Z",
     "iopub.status.idle": "2021-02-01T04:16:19.265231Z",
     "shell.execute_reply": "2021-02-01T04:16:19.265631Z"
    },
    "papermill": {
     "duration": 0.017839,
     "end_time": "2021-02-01T04:16:19.265753",
     "exception": false,
     "start_time": "2021-02-01T04:16:19.247914",
     "status": "completed"
    },
    "tags": []
   },
   "outputs": [],
   "source": [
    "class BengaliDataset:\n",
    "    def __init__(self, df, img_height, img_width, mean, std):\n",
    "        \n",
    "        self.image_ids = df.image_id.values\n",
    "        self.img_arr = df.iloc[:, 1:].values\n",
    "\n",
    "        self.aug = albumentations.Compose([\n",
    "            albumentations.Resize(img_height, img_width, always_apply=True),\n",
    "            albumentations.Normalize(mean, std, always_apply=True)\n",
    "        ])\n",
    "\n",
    "\n",
    "    def __len__(self):\n",
    "        return len(self.image_ids)\n",
    "    \n",
    "    def __getitem__(self, item):\n",
    "        image = self.img_arr[item, :]\n",
    "        img_id = self.image_ids[item]\n",
    "        \n",
    "        image = image.reshape(137, 236).astype(float)\n",
    "        image = Image.fromarray(image).convert(\"RGB\")\n",
    "        image = self.aug(image=np.array(image))[\"image\"]\n",
    "        image = np.transpose(image, (2, 0, 1)).astype(np.float32)\n",
    "        \n",
    "\n",
    "        return {\n",
    "            \"image\": torch.tensor(image, dtype=torch.float),\n",
    "            \"image_id\": img_id\n",
    "        }\n"
   ]
  },
  {
   "cell_type": "code",
   "execution_count": 6,
   "metadata": {
    "execution": {
     "iopub.execute_input": "2021-02-01T04:16:19.289941Z",
     "iopub.status.busy": "2021-02-01T04:16:19.288827Z",
     "iopub.status.idle": "2021-02-01T04:16:19.291605Z",
     "shell.execute_reply": "2021-02-01T04:16:19.291195Z"
    },
    "papermill": {
     "duration": 0.018509,
     "end_time": "2021-02-01T04:16:19.291710",
     "exception": false,
     "start_time": "2021-02-01T04:16:19.273201",
     "status": "completed"
    },
    "tags": []
   },
   "outputs": [],
   "source": [
    "def model_predict(model):\n",
    "    g_pred, v_pred, c_pred = [], [], []\n",
    "    img_ids_list = [] \n",
    "    \n",
    "    for file_idx in range(4):\n",
    "        df = pd.read_parquet(f\"../input/bengaliai-cv19/test_image_data_{file_idx}.parquet\")\n",
    "\n",
    "        dataset = BengaliDataset(df=df,\n",
    "                                    img_height=IMG_HEIGHT,\n",
    "                                    img_width=IMG_WIDTH,\n",
    "                                    mean=MODEL_MEAN,\n",
    "                                    std=MODEL_STD)\n",
    "\n",
    "        data_loader = torch.utils.data.DataLoader(\n",
    "            dataset=dataset,\n",
    "            batch_size= TEST_BATCH_SIZE,\n",
    "            shuffle=False,\n",
    "            num_workers=4\n",
    "        )\n",
    "\n",
    "        for bi, d in tqdm(enumerate(data_loader), total = int(len(dataset)/ data_loader.batch_size)):\n",
    "            image = d[\"image\"]\n",
    "            img_id = d[\"image_id\"]\n",
    "            image = image.to(DEVICE, dtype=torch.float)\n",
    "\n",
    "            g, v, c = model(image)\n",
    "\n",
    "            for ii, imid in enumerate(img_id):\n",
    "                g_pred.append(g[ii].cpu().detach().numpy())\n",
    "                v_pred.append(v[ii].cpu().detach().numpy())\n",
    "                c_pred.append(c[ii].cpu().detach().numpy())\n",
    "                img_ids_list.append(imid)\n",
    "        \n",
    "    return g_pred, v_pred, c_pred, img_ids_list"
   ]
  },
  {
   "cell_type": "code",
   "execution_count": 7,
   "metadata": {
    "execution": {
     "iopub.execute_input": "2021-02-01T04:16:19.313238Z",
     "iopub.status.busy": "2021-02-01T04:16:19.312754Z",
     "iopub.status.idle": "2021-02-01T04:22:15.154133Z",
     "shell.execute_reply": "2021-02-01T04:22:15.153693Z"
    },
    "papermill": {
     "duration": 355.855048,
     "end_time": "2021-02-01T04:22:15.154267",
     "exception": false,
     "start_time": "2021-02-01T04:16:19.299219",
     "status": "completed"
    },
    "tags": []
   },
   "outputs": [
    {
     "name": "stderr",
     "output_type": "stream",
     "text": [
      "1it [00:00,  1.24it/s]\n",
      "1it [00:00,  7.86it/s]\n",
      "1it [00:00,  9.22it/s]\n",
      "1it [00:00,  8.44it/s]\n",
      "1it [00:00,  9.23it/s]\n",
      "1it [00:00,  8.60it/s]\n",
      "1it [00:00,  9.64it/s]\n",
      "1it [00:00,  8.33it/s]\n",
      "1it [00:00,  9.18it/s]\n",
      "1it [00:00,  8.22it/s]\n",
      "1it [00:00,  9.17it/s]\n",
      "1it [00:00,  7.99it/s]\n",
      "1it [00:00,  9.06it/s]\n",
      "1it [00:00,  8.20it/s]\n",
      "1it [00:00,  9.27it/s]\n",
      "1it [00:00,  8.20it/s]\n",
      "1it [00:00,  9.07it/s]\n",
      "1it [00:00,  8.16it/s]\n",
      "1it [00:00,  8.08it/s]\n",
      "1it [00:00,  3.95it/s]\n"
     ]
    }
   ],
   "source": [
    "model = bengalimodel()\n",
    "TEST_BATCH_SIZE = 32\n",
    "\n",
    "final_g_pred = []\n",
    "final_v_pred = []\n",
    "final_c_pred = []\n",
    "final_img_ids = []\n",
    "\n",
    "for i in range(5):\n",
    "    model.load_state_dict(torch.load(f\"../input/resnet18bengaliai/resnet18_fold{i}.pth\"))\n",
    "    model.to(DEVICE)\n",
    "    model.eval()\n",
    "    g_pred, v_pred, c_pred, img_ids_list = model_predict(model)\n",
    "    \n",
    "    final_g_pred.append(g_pred)\n",
    "    final_v_pred.append(v_pred)\n",
    "    final_c_pred.append(c_pred)\n",
    "    if i == 0:\n",
    "        final_img_ids.extend(img_ids_list)"
   ]
  },
  {
   "cell_type": "code",
   "execution_count": 8,
   "metadata": {
    "execution": {
     "iopub.execute_input": "2021-02-01T04:22:15.205780Z",
     "iopub.status.busy": "2021-02-01T04:22:15.205054Z",
     "iopub.status.idle": "2021-02-01T04:22:15.208560Z",
     "shell.execute_reply": "2021-02-01T04:22:15.208153Z"
    },
    "papermill": {
     "duration": 0.031568,
     "end_time": "2021-02-01T04:22:15.208669",
     "exception": false,
     "start_time": "2021-02-01T04:22:15.177101",
     "status": "completed"
    },
    "tags": []
   },
   "outputs": [],
   "source": [
    "final_g = np.argmax(np.mean(np.array(final_g_pred), axis=0), axis=1)\n",
    "final_v = np.argmax(np.mean(np.array(final_v_pred), axis=0), axis=1)\n",
    "final_c = np.argmax(np.mean(np.array(final_c_pred), axis=0), axis=1)"
   ]
  },
  {
   "cell_type": "code",
   "execution_count": 9,
   "metadata": {
    "execution": {
     "iopub.execute_input": "2021-02-01T04:22:15.259763Z",
     "iopub.status.busy": "2021-02-01T04:22:15.259013Z",
     "iopub.status.idle": "2021-02-01T04:22:15.261766Z",
     "shell.execute_reply": "2021-02-01T04:22:15.261367Z"
    },
    "papermill": {
     "duration": 0.030467,
     "end_time": "2021-02-01T04:22:15.261875",
     "exception": false,
     "start_time": "2021-02-01T04:22:15.231408",
     "status": "completed"
    },
    "tags": []
   },
   "outputs": [],
   "source": [
    "predictions = []\n",
    "for ii, imid in enumerate(final_img_ids):\n",
    "    predictions.append((f\"{imid}_grapheme_root\", final_g[ii]))\n",
    "    predictions.append((f\"{imid}_vowel_diacritic\", final_v[ii]))\n",
    "    predictions.append((f\"{imid}_consonant_diacritic\", final_c[ii]))"
   ]
  },
  {
   "cell_type": "code",
   "execution_count": 10,
   "metadata": {
    "execution": {
     "iopub.execute_input": "2021-02-01T04:22:15.313015Z",
     "iopub.status.busy": "2021-02-01T04:22:15.312341Z",
     "iopub.status.idle": "2021-02-01T04:22:15.315435Z",
     "shell.execute_reply": "2021-02-01T04:22:15.314920Z"
    },
    "papermill": {
     "duration": 0.030905,
     "end_time": "2021-02-01T04:22:15.315542",
     "exception": false,
     "start_time": "2021-02-01T04:22:15.284637",
     "status": "completed"
    },
    "tags": []
   },
   "outputs": [],
   "source": [
    "sub = pd.DataFrame(predictions, columns=[\"row_id\", \"target\"])"
   ]
  },
  {
   "cell_type": "code",
   "execution_count": 11,
   "metadata": {
    "execution": {
     "iopub.execute_input": "2021-02-01T04:22:15.371133Z",
     "iopub.status.busy": "2021-02-01T04:22:15.370628Z",
     "iopub.status.idle": "2021-02-01T04:22:15.380562Z",
     "shell.execute_reply": "2021-02-01T04:22:15.381002Z"
    },
    "papermill": {
     "duration": 0.042218,
     "end_time": "2021-02-01T04:22:15.381127",
     "exception": false,
     "start_time": "2021-02-01T04:22:15.338909",
     "status": "completed"
    },
    "tags": []
   },
   "outputs": [
    {
     "data": {
      "text/html": [
       "<div>\n",
       "<style scoped>\n",
       "    .dataframe tbody tr th:only-of-type {\n",
       "        vertical-align: middle;\n",
       "    }\n",
       "\n",
       "    .dataframe tbody tr th {\n",
       "        vertical-align: top;\n",
       "    }\n",
       "\n",
       "    .dataframe thead th {\n",
       "        text-align: right;\n",
       "    }\n",
       "</style>\n",
       "<table border=\"1\" class=\"dataframe\">\n",
       "  <thead>\n",
       "    <tr style=\"text-align: right;\">\n",
       "      <th></th>\n",
       "      <th>row_id</th>\n",
       "      <th>target</th>\n",
       "    </tr>\n",
       "  </thead>\n",
       "  <tbody>\n",
       "    <tr>\n",
       "      <th>0</th>\n",
       "      <td>Test_0_grapheme_root</td>\n",
       "      <td>3</td>\n",
       "    </tr>\n",
       "    <tr>\n",
       "      <th>1</th>\n",
       "      <td>Test_0_vowel_diacritic</td>\n",
       "      <td>0</td>\n",
       "    </tr>\n",
       "    <tr>\n",
       "      <th>2</th>\n",
       "      <td>Test_0_consonant_diacritic</td>\n",
       "      <td>0</td>\n",
       "    </tr>\n",
       "    <tr>\n",
       "      <th>3</th>\n",
       "      <td>Test_1_grapheme_root</td>\n",
       "      <td>93</td>\n",
       "    </tr>\n",
       "    <tr>\n",
       "      <th>4</th>\n",
       "      <td>Test_1_vowel_diacritic</td>\n",
       "      <td>2</td>\n",
       "    </tr>\n",
       "    <tr>\n",
       "      <th>5</th>\n",
       "      <td>Test_1_consonant_diacritic</td>\n",
       "      <td>0</td>\n",
       "    </tr>\n",
       "    <tr>\n",
       "      <th>6</th>\n",
       "      <td>Test_2_grapheme_root</td>\n",
       "      <td>19</td>\n",
       "    </tr>\n",
       "    <tr>\n",
       "      <th>7</th>\n",
       "      <td>Test_2_vowel_diacritic</td>\n",
       "      <td>0</td>\n",
       "    </tr>\n",
       "    <tr>\n",
       "      <th>8</th>\n",
       "      <td>Test_2_consonant_diacritic</td>\n",
       "      <td>0</td>\n",
       "    </tr>\n",
       "    <tr>\n",
       "      <th>9</th>\n",
       "      <td>Test_3_grapheme_root</td>\n",
       "      <td>115</td>\n",
       "    </tr>\n",
       "    <tr>\n",
       "      <th>10</th>\n",
       "      <td>Test_3_vowel_diacritic</td>\n",
       "      <td>0</td>\n",
       "    </tr>\n",
       "    <tr>\n",
       "      <th>11</th>\n",
       "      <td>Test_3_consonant_diacritic</td>\n",
       "      <td>0</td>\n",
       "    </tr>\n",
       "    <tr>\n",
       "      <th>12</th>\n",
       "      <td>Test_4_grapheme_root</td>\n",
       "      <td>55</td>\n",
       "    </tr>\n",
       "    <tr>\n",
       "      <th>13</th>\n",
       "      <td>Test_4_vowel_diacritic</td>\n",
       "      <td>4</td>\n",
       "    </tr>\n",
       "    <tr>\n",
       "      <th>14</th>\n",
       "      <td>Test_4_consonant_diacritic</td>\n",
       "      <td>0</td>\n",
       "    </tr>\n",
       "    <tr>\n",
       "      <th>15</th>\n",
       "      <td>Test_5_grapheme_root</td>\n",
       "      <td>115</td>\n",
       "    </tr>\n",
       "    <tr>\n",
       "      <th>16</th>\n",
       "      <td>Test_5_vowel_diacritic</td>\n",
       "      <td>2</td>\n",
       "    </tr>\n",
       "    <tr>\n",
       "      <th>17</th>\n",
       "      <td>Test_5_consonant_diacritic</td>\n",
       "      <td>0</td>\n",
       "    </tr>\n",
       "    <tr>\n",
       "      <th>18</th>\n",
       "      <td>Test_6_grapheme_root</td>\n",
       "      <td>147</td>\n",
       "    </tr>\n",
       "    <tr>\n",
       "      <th>19</th>\n",
       "      <td>Test_6_vowel_diacritic</td>\n",
       "      <td>9</td>\n",
       "    </tr>\n",
       "    <tr>\n",
       "      <th>20</th>\n",
       "      <td>Test_6_consonant_diacritic</td>\n",
       "      <td>5</td>\n",
       "    </tr>\n",
       "    <tr>\n",
       "      <th>21</th>\n",
       "      <td>Test_7_grapheme_root</td>\n",
       "      <td>137</td>\n",
       "    </tr>\n",
       "    <tr>\n",
       "      <th>22</th>\n",
       "      <td>Test_7_vowel_diacritic</td>\n",
       "      <td>7</td>\n",
       "    </tr>\n",
       "    <tr>\n",
       "      <th>23</th>\n",
       "      <td>Test_7_consonant_diacritic</td>\n",
       "      <td>0</td>\n",
       "    </tr>\n",
       "    <tr>\n",
       "      <th>24</th>\n",
       "      <td>Test_8_grapheme_root</td>\n",
       "      <td>119</td>\n",
       "    </tr>\n",
       "    <tr>\n",
       "      <th>25</th>\n",
       "      <td>Test_8_vowel_diacritic</td>\n",
       "      <td>9</td>\n",
       "    </tr>\n",
       "    <tr>\n",
       "      <th>26</th>\n",
       "      <td>Test_8_consonant_diacritic</td>\n",
       "      <td>0</td>\n",
       "    </tr>\n",
       "    <tr>\n",
       "      <th>27</th>\n",
       "      <td>Test_9_grapheme_root</td>\n",
       "      <td>133</td>\n",
       "    </tr>\n",
       "    <tr>\n",
       "      <th>28</th>\n",
       "      <td>Test_9_vowel_diacritic</td>\n",
       "      <td>10</td>\n",
       "    </tr>\n",
       "    <tr>\n",
       "      <th>29</th>\n",
       "      <td>Test_9_consonant_diacritic</td>\n",
       "      <td>0</td>\n",
       "    </tr>\n",
       "    <tr>\n",
       "      <th>30</th>\n",
       "      <td>Test_10_grapheme_root</td>\n",
       "      <td>148</td>\n",
       "    </tr>\n",
       "    <tr>\n",
       "      <th>31</th>\n",
       "      <td>Test_10_vowel_diacritic</td>\n",
       "      <td>1</td>\n",
       "    </tr>\n",
       "    <tr>\n",
       "      <th>32</th>\n",
       "      <td>Test_10_consonant_diacritic</td>\n",
       "      <td>4</td>\n",
       "    </tr>\n",
       "    <tr>\n",
       "      <th>33</th>\n",
       "      <td>Test_11_grapheme_root</td>\n",
       "      <td>21</td>\n",
       "    </tr>\n",
       "    <tr>\n",
       "      <th>34</th>\n",
       "      <td>Test_11_vowel_diacritic</td>\n",
       "      <td>2</td>\n",
       "    </tr>\n",
       "    <tr>\n",
       "      <th>35</th>\n",
       "      <td>Test_11_consonant_diacritic</td>\n",
       "      <td>0</td>\n",
       "    </tr>\n",
       "  </tbody>\n",
       "</table>\n",
       "</div>"
      ],
      "text/plain": [
       "                         row_id  target\n",
       "0          Test_0_grapheme_root       3\n",
       "1        Test_0_vowel_diacritic       0\n",
       "2    Test_0_consonant_diacritic       0\n",
       "3          Test_1_grapheme_root      93\n",
       "4        Test_1_vowel_diacritic       2\n",
       "5    Test_1_consonant_diacritic       0\n",
       "6          Test_2_grapheme_root      19\n",
       "7        Test_2_vowel_diacritic       0\n",
       "8    Test_2_consonant_diacritic       0\n",
       "9          Test_3_grapheme_root     115\n",
       "10       Test_3_vowel_diacritic       0\n",
       "11   Test_3_consonant_diacritic       0\n",
       "12         Test_4_grapheme_root      55\n",
       "13       Test_4_vowel_diacritic       4\n",
       "14   Test_4_consonant_diacritic       0\n",
       "15         Test_5_grapheme_root     115\n",
       "16       Test_5_vowel_diacritic       2\n",
       "17   Test_5_consonant_diacritic       0\n",
       "18         Test_6_grapheme_root     147\n",
       "19       Test_6_vowel_diacritic       9\n",
       "20   Test_6_consonant_diacritic       5\n",
       "21         Test_7_grapheme_root     137\n",
       "22       Test_7_vowel_diacritic       7\n",
       "23   Test_7_consonant_diacritic       0\n",
       "24         Test_8_grapheme_root     119\n",
       "25       Test_8_vowel_diacritic       9\n",
       "26   Test_8_consonant_diacritic       0\n",
       "27         Test_9_grapheme_root     133\n",
       "28       Test_9_vowel_diacritic      10\n",
       "29   Test_9_consonant_diacritic       0\n",
       "30        Test_10_grapheme_root     148\n",
       "31      Test_10_vowel_diacritic       1\n",
       "32  Test_10_consonant_diacritic       4\n",
       "33        Test_11_grapheme_root      21\n",
       "34      Test_11_vowel_diacritic       2\n",
       "35  Test_11_consonant_diacritic       0"
      ]
     },
     "execution_count": 11,
     "metadata": {},
     "output_type": "execute_result"
    }
   ],
   "source": [
    "sub"
   ]
  },
  {
   "cell_type": "code",
   "execution_count": 12,
   "metadata": {
    "execution": {
     "iopub.execute_input": "2021-02-01T04:22:15.440201Z",
     "iopub.status.busy": "2021-02-01T04:22:15.439692Z",
     "iopub.status.idle": "2021-02-01T04:22:15.602567Z",
     "shell.execute_reply": "2021-02-01T04:22:15.601309Z"
    },
    "papermill": {
     "duration": 0.191999,
     "end_time": "2021-02-01T04:22:15.602696",
     "exception": false,
     "start_time": "2021-02-01T04:22:15.410697",
     "status": "completed"
    },
    "tags": []
   },
   "outputs": [],
   "source": [
    "sub.to_csv(\"submission.csv\", index=False)"
   ]
  },
  {
   "cell_type": "code",
   "execution_count": null,
   "metadata": {
    "papermill": {
     "duration": 0.023604,
     "end_time": "2021-02-01T04:22:15.650449",
     "exception": false,
     "start_time": "2021-02-01T04:22:15.626845",
     "status": "completed"
    },
    "tags": []
   },
   "outputs": [],
   "source": []
  }
 ],
 "metadata": {
  "kernelspec": {
   "display_name": "Python 3",
   "language": "python",
   "name": "python3"
  },
  "language_info": {
   "codemirror_mode": {
    "name": "ipython",
    "version": 3
   },
   "file_extension": ".py",
   "mimetype": "text/x-python",
   "name": "python",
   "nbconvert_exporter": "python",
   "pygments_lexer": "ipython3",
   "version": "3.7.9"
  },
  "papermill": {
   "default_parameters": {},
   "duration": 389.531206,
   "end_time": "2021-02-01T04:22:16.984070",
   "environment_variables": {},
   "exception": null,
   "input_path": "__notebook__.ipynb",
   "output_path": "__notebook__.ipynb",
   "parameters": {},
   "start_time": "2021-02-01T04:15:47.452864",
   "version": "2.2.2"
  }
 },
 "nbformat": 4,
 "nbformat_minor": 4
}
