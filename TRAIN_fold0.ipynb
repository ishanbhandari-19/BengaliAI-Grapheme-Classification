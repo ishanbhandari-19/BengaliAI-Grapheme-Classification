{
 "cells": [
  {
   "cell_type": "code",
   "execution_count": 1,
   "metadata": {},
   "outputs": [],
   "source": [
    "import os\n",
    "import ast\n",
    "import torch\n",
    "import torch.nn as nn\n",
    "\n",
    "from model import bengalimodel\n",
    "from dataset import BengaliDatasetTrain\n",
    "from train_fn import train,evaluate"
   ]
  },
  {
   "cell_type": "code",
   "execution_count": 2,
   "metadata": {},
   "outputs": [],
   "source": [
    "device = 'cuda'\n",
    "IMG_HEIGHT=137\n",
    "IMG_WIDTH=236\n",
    "EPOCHS=25\n",
    "TRAIN_BATCH_SIZE=64\n",
    "TEST_BATCH_SIZE=16\n",
    "MODEL_MEAN=(0.485, 0.456, 0.406)\n",
    "MODEL_STD=(0.229, 0.224, 0.225)"
   ]
  },
  {
   "cell_type": "code",
   "execution_count": 3,
   "metadata": {},
   "outputs": [
    {
     "name": "stderr",
     "output_type": "stream",
     "text": [
      "Downloading: \"https://download.pytorch.org/models/resnet18-5c106cde.pth\" to /root/.cache/torch/hub/checkpoints/resnet18-5c106cde.pth\n"
     ]
    }
   ],
   "source": [
    "TRAINING_FOLDS = [1,2,3,4]\n",
    "VALIDATION_FOLDS = [0]\n",
    "\n",
    "model = bengalimodel(backbone = 'resnet18')\n",
    "model = model.to(device)\n",
    "\n",
    "train_dataset = BengaliDatasetTrain(\n",
    "    folds=TRAINING_FOLDS,\n",
    "    img_height = IMG_HEIGHT,\n",
    "    img_width = IMG_WIDTH,\n",
    "    mean = MODEL_MEAN,\n",
    "    std = MODEL_STD\n",
    ")\n",
    "\n",
    "train_loader = torch.utils.data.DataLoader(\n",
    "    dataset=train_dataset,\n",
    "    batch_size= TRAIN_BATCH_SIZE,\n",
    "    shuffle=True,\n",
    "    num_workers=4\n",
    ")\n",
    "\n",
    "valid_dataset = BengaliDatasetTrain(\n",
    "    folds=VALIDATION_FOLDS,\n",
    "    img_height = IMG_HEIGHT,\n",
    "    img_width = IMG_WIDTH,\n",
    "    mean = MODEL_MEAN,\n",
    "    std = MODEL_STD\n",
    ")\n",
    "\n",
    "valid_loader = torch.utils.data.DataLoader(\n",
    "    dataset=valid_dataset,\n",
    "    batch_size= TEST_BATCH_SIZE,\n",
    "    shuffle=True,\n",
    "    num_workers=4\n",
    ")\n",
    "\n",
    "optimizer = torch.optim.Adam(model.parameters(), lr=1e-4)\n",
    "\n",
    "scheduler = torch.optim.lr_scheduler.ReduceLROnPlateau(\n",
    "optimizer,\n",
    "mode = 'min',\n",
    "patience = 5,\n",
    "factor = 0.3,\n",
    "verbose = True\n",
    ")\n",
    "\n"
   ]
  },
  {
   "cell_type": "code",
   "execution_count": 4,
   "metadata": {},
   "outputs": [
    {
     "name": "stderr",
     "output_type": "stream",
     "text": [
      "2511it [04:55,  8.50it/s]                          \n"
     ]
    },
    {
     "name": "stdout",
     "output_type": "stream",
     "text": [
      "=================Train=================\n",
      "recall: grapheme 0.8044096895662305, vowel 0.9098206178912704, consonant 0.9082203933649018, total 0.8567150975971582\n"
     ]
    },
    {
     "name": "stderr",
     "output_type": "stream",
     "text": [
      "2511it [01:41, 24.80it/s]                          \n"
     ]
    },
    {
     "name": "stdout",
     "output_type": "stream",
     "text": [
      "=================VALID============\n",
      "recall: grapheme 0.8980004275863047, vowel 0.9608997183843879, consonant 0.9516139165815236, total 0.9271286225346302\n",
      "[ 0/25] train_loss: 0.19238 train_score: 0.85672 valid_loss: 0.09246 valid_score: 0.92713\n"
     ]
    },
    {
     "name": "stderr",
     "output_type": "stream",
     "text": [
      "2511it [04:55,  8.50it/s]                          \n"
     ]
    },
    {
     "name": "stdout",
     "output_type": "stream",
     "text": [
      "=================Train=================\n",
      "recall: grapheme 0.9157546789445652, vowel 0.9679842588161826, consonant 0.9593254908081688, total 0.9397047768783704\n"
     ]
    },
    {
     "name": "stderr",
     "output_type": "stream",
     "text": [
      "2511it [01:41, 24.65it/s]                          \n"
     ]
    },
    {
     "name": "stdout",
     "output_type": "stream",
     "text": [
      "=================VALID============\n",
      "recall: grapheme 0.924287963935349, vowel 0.9679710097457139, consonant 0.9619859284668627, total 0.9446332165208187\n",
      "[ 1/25] train_loss: 0.06399 train_score: 0.93970 valid_loss: 0.06498 valid_score: 0.94463\n"
     ]
    },
    {
     "name": "stderr",
     "output_type": "stream",
     "text": [
      "2511it [04:57,  8.43it/s]                          \n"
     ]
    },
    {
     "name": "stdout",
     "output_type": "stream",
     "text": [
      "=================Train=================\n",
      "recall: grapheme 0.943944356359867, vowel 0.9764264499977948, consonant 0.9702267781552353, total 0.958635485218191\n"
     ]
    },
    {
     "name": "stderr",
     "output_type": "stream",
     "text": [
      "2511it [01:41, 24.71it/s]                          \n"
     ]
    },
    {
     "name": "stdout",
     "output_type": "stream",
     "text": [
      "=================VALID============\n",
      "recall: grapheme 0.9203614582923701, vowel 0.9729269552097911, consonant 0.9692765007116669, total 0.9457315931265496\n",
      "[ 2/25] train_loss: 0.04323 train_score: 0.95864 valid_loss: 0.06137 valid_score: 0.94573\n"
     ]
    },
    {
     "name": "stderr",
     "output_type": "stream",
     "text": [
      "2511it [04:55,  8.49it/s]                          \n"
     ]
    },
    {
     "name": "stdout",
     "output_type": "stream",
     "text": [
      "=================Train=================\n",
      "recall: grapheme 0.9588351461850609, vowel 0.9821564119998143, consonant 0.9770458266577798, total 0.969218132756929\n"
     ]
    },
    {
     "name": "stderr",
     "output_type": "stream",
     "text": [
      "2511it [01:41, 24.72it/s]                          \n"
     ]
    },
    {
     "name": "stdout",
     "output_type": "stream",
     "text": [
      "=================VALID============\n",
      "recall: grapheme 0.9290041629118646, vowel 0.9750620204369329, consonant 0.9677327568122255, total 0.9502007757682219\n",
      "[ 3/25] train_loss: 0.03112 train_score: 0.96922 valid_loss: 0.06437 valid_score: 0.95020\n"
     ]
    },
    {
     "name": "stderr",
     "output_type": "stream",
     "text": [
      "2511it [04:55,  8.48it/s]                          \n"
     ]
    },
    {
     "name": "stdout",
     "output_type": "stream",
     "text": [
      "=================Train=================\n",
      "recall: grapheme 0.9694693751308966, vowel 0.985185859898828, consonant 0.9808977608186973, total 0.9762555927448295\n"
     ]
    },
    {
     "name": "stderr",
     "output_type": "stream",
     "text": [
      "2511it [01:41, 24.72it/s]                          \n"
     ]
    },
    {
     "name": "stdout",
     "output_type": "stream",
     "text": [
      "=================VALID============\n",
      "recall: grapheme 0.9253252596465378, vowel 0.9750077514155554, consonant 0.9761173199991763, total 0.9504438976769518\n",
      "[ 4/25] train_loss: 0.02359 train_score: 0.97626 valid_loss: 0.06992 valid_score: 0.95044\n"
     ]
    },
    {
     "name": "stderr",
     "output_type": "stream",
     "text": [
      "2511it [04:55,  8.49it/s]                          \n"
     ]
    },
    {
     "name": "stdout",
     "output_type": "stream",
     "text": [
      "=================Train=================\n",
      "recall: grapheme 0.9758268829742911, vowel 0.9880151748904104, consonant 0.9841708794959032, total 0.980959955083724\n"
     ]
    },
    {
     "name": "stderr",
     "output_type": "stream",
     "text": [
      "2511it [01:41, 24.72it/s]                          \n"
     ]
    },
    {
     "name": "stdout",
     "output_type": "stream",
     "text": [
      "=================VALID============\n",
      "recall: grapheme 0.9298108337490444, vowel 0.9800028691020739, consonant 0.9642755342927432, total 0.9509750177232265\n",
      "[ 5/25] train_loss: 0.01831 train_score: 0.98096 valid_loss: 0.06404 valid_score: 0.95098\n"
     ]
    },
    {
     "name": "stderr",
     "output_type": "stream",
     "text": [
      "2511it [04:55,  8.49it/s]                          \n"
     ]
    },
    {
     "name": "stdout",
     "output_type": "stream",
     "text": [
      "=================Train=================\n",
      "recall: grapheme 0.9798182743119662, vowel 0.9891486535113543, consonant 0.9866097533842504, total 0.9838487388798842\n"
     ]
    },
    {
     "name": "stderr",
     "output_type": "stream",
     "text": [
      "2511it [01:41, 24.73it/s]                          \n"
     ]
    },
    {
     "name": "stdout",
     "output_type": "stream",
     "text": [
      "=================VALID============\n",
      "recall: grapheme 0.9337442764733941, vowel 0.9766439698321743, consonant 0.9606533896023726, total 0.9511964780953337\n",
      "[ 6/25] train_loss: 0.01514 train_score: 0.98385 valid_loss: 0.06562 valid_score: 0.95120\n"
     ]
    },
    {
     "name": "stderr",
     "output_type": "stream",
     "text": [
      "2511it [04:55,  8.49it/s]                          \n"
     ]
    },
    {
     "name": "stdout",
     "output_type": "stream",
     "text": [
      "=================Train=================\n",
      "recall: grapheme 0.98276163450075, vowel 0.9911301418498547, consonant 0.9885585277316576, total 0.9863029846457532\n"
     ]
    },
    {
     "name": "stderr",
     "output_type": "stream",
     "text": [
      "2511it [01:41, 24.67it/s]                          \n"
     ]
    },
    {
     "name": "stdout",
     "output_type": "stream",
     "text": [
      "=================VALID============\n",
      "recall: grapheme 0.9333447460258265, vowel 0.9735505971139737, consonant 0.9601852605981945, total 0.9501063374409553\n",
      "[ 7/25] train_loss: 0.01267 train_score: 0.98630 valid_loss: 0.07549 valid_score: 0.95011\n"
     ]
    },
    {
     "name": "stderr",
     "output_type": "stream",
     "text": [
      "2511it [04:55,  8.49it/s]                          \n"
     ]
    },
    {
     "name": "stdout",
     "output_type": "stream",
     "text": [
      "=================Train=================\n",
      "recall: grapheme 0.9844772998848345, vowel 0.9912363188782707, consonant 0.9901549645818962, total 0.987586470807459\n"
     ]
    },
    {
     "name": "stderr",
     "output_type": "stream",
     "text": [
      "2511it [01:41, 24.72it/s]                          \n"
     ]
    },
    {
     "name": "stdout",
     "output_type": "stream",
     "text": [
      "=================VALID============\n",
      "recall: grapheme 0.934741140316401, vowel 0.9756055503810918, consonant 0.9511487028196347, total 0.9490591334583821\n",
      "Epoch     9: reducing learning rate of group 0 to 3.0000e-05.\n",
      "[ 8/25] train_loss: 0.01141 train_score: 0.98759 valid_loss: 0.07308 valid_score: 0.94906\n"
     ]
    },
    {
     "name": "stderr",
     "output_type": "stream",
     "text": [
      "2511it [04:55,  8.49it/s]                          \n"
     ]
    },
    {
     "name": "stdout",
     "output_type": "stream",
     "text": [
      "=================Train=================\n",
      "recall: grapheme 0.9975007760987866, vowel 0.9975059531640817, consonant 0.9966315562435579, total 0.9972847654013033\n"
     ]
    },
    {
     "name": "stderr",
     "output_type": "stream",
     "text": [
      "2511it [01:41, 24.72it/s]                          \n"
     ]
    },
    {
     "name": "stdout",
     "output_type": "stream",
     "text": [
      "=================VALID============\n",
      "recall: grapheme 0.952656554360996, vowel 0.9839887934300681, consonant 0.9737405194577811, total 0.9657606054024603\n",
      "[ 9/25] train_loss: 0.00269 train_score: 0.99728 valid_loss: 0.05665 valid_score: 0.96576\n"
     ]
    },
    {
     "name": "stderr",
     "output_type": "stream",
     "text": [
      "2511it [04:55,  8.49it/s]                          \n"
     ]
    },
    {
     "name": "stdout",
     "output_type": "stream",
     "text": [
      "=================Train=================\n",
      "recall: grapheme 0.9995131814979168, vowel 0.9987372287191693, consonant 0.9990232483709375, total 0.999196710021485\n"
     ]
    },
    {
     "name": "stderr",
     "output_type": "stream",
     "text": [
      "2511it [01:41, 24.66it/s]                          \n"
     ]
    },
    {
     "name": "stdout",
     "output_type": "stream",
     "text": [
      "=================VALID============\n",
      "recall: grapheme 0.9520769561805745, vowel 0.9844013775832948, consonant 0.9764981592456667, total 0.9662633622975276\n",
      "[10/25] train_loss: 0.00100 train_score: 0.99920 valid_loss: 0.06020 valid_score: 0.96626\n"
     ]
    },
    {
     "name": "stderr",
     "output_type": "stream",
     "text": [
      "2511it [04:56,  8.48it/s]                          \n"
     ]
    },
    {
     "name": "stdout",
     "output_type": "stream",
     "text": [
      "=================Train=================\n",
      "recall: grapheme 0.9993057200700542, vowel 0.9992312318861516, consonant 0.9992755998263386, total 0.9992795679631497\n"
     ]
    },
    {
     "name": "stderr",
     "output_type": "stream",
     "text": [
      "2511it [01:41, 24.71it/s]                          "
     ]
    },
    {
     "name": "stdout",
     "output_type": "stream",
     "text": [
      "=================VALID============\n",
      "recall: grapheme 0.9511510104218162, vowel 0.9836612859618458, consonant 0.9771731117647623, total 0.9657841046425601\n",
      "[11/25] train_loss: 0.00096 train_score: 0.99928 valid_loss: 0.06366 valid_score: 0.96578\n"
     ]
    },
    {
     "name": "stderr",
     "output_type": "stream",
     "text": [
      "\n",
      "2511it [04:55,  8.48it/s]                          \n"
     ]
    },
    {
     "name": "stdout",
     "output_type": "stream",
     "text": [
      "=================Train=================\n",
      "recall: grapheme 0.9994816353660709, vowel 0.9992948312778221, consonant 0.9991234044705595, total 0.9993453766201308\n"
     ]
    },
    {
     "name": "stderr",
     "output_type": "stream",
     "text": [
      "2511it [01:41, 24.69it/s]                          "
     ]
    },
    {
     "name": "stdout",
     "output_type": "stream",
     "text": [
      "=================VALID============\n",
      "recall: grapheme 0.951670612460734, vowel 0.9834929317328982, consonant 0.9734345532887121, total 0.9650671774857695\n",
      "[12/25] train_loss: 0.00075 train_score: 0.99935 valid_loss: 0.06534 valid_score: 0.96507\n"
     ]
    },
    {
     "name": "stderr",
     "output_type": "stream",
     "text": [
      "\n",
      "2511it [04:55,  8.48it/s]                          \n"
     ]
    },
    {
     "name": "stdout",
     "output_type": "stream",
     "text": [
      "=================Train=================\n",
      "recall: grapheme 0.9994932240924331, vowel 0.999281628067565, consonant 0.9992674092278964, total 0.999383871370082\n"
     ]
    },
    {
     "name": "stderr",
     "output_type": "stream",
     "text": [
      "2511it [01:41, 24.67it/s]                          "
     ]
    },
    {
     "name": "stdout",
     "output_type": "stream",
     "text": [
      "=================VALID============\n",
      "recall: grapheme 0.9524345574671009, vowel 0.9835331901397684, consonant 0.9744407364236813, total 0.9657107603744128\n",
      "[13/25] train_loss: 0.00075 train_score: 0.99938 valid_loss: 0.06761 valid_score: 0.96571\n"
     ]
    },
    {
     "name": "stderr",
     "output_type": "stream",
     "text": [
      "\n",
      "2511it [04:56,  8.48it/s]                          \n"
     ]
    },
    {
     "name": "stdout",
     "output_type": "stream",
     "text": [
      "=================Train=================\n",
      "recall: grapheme 0.9992998614563978, vowel 0.999354493307786, consonant 0.9994973905942144, total 0.9993629017036991\n"
     ]
    },
    {
     "name": "stderr",
     "output_type": "stream",
     "text": [
      "2511it [01:41, 24.69it/s]                          "
     ]
    },
    {
     "name": "stdout",
     "output_type": "stream",
     "text": [
      "=================VALID============\n",
      "recall: grapheme 0.9490589998771436, vowel 0.9822289124699154, consonant 0.9672586875057357, total 0.9619013999324846\n",
      "[14/25] train_loss: 0.00073 train_score: 0.99936 valid_loss: 0.07072 valid_score: 0.96190\n"
     ]
    },
    {
     "name": "stderr",
     "output_type": "stream",
     "text": [
      "\n",
      "2511it [04:55,  8.49it/s]                          \n"
     ]
    },
    {
     "name": "stdout",
     "output_type": "stream",
     "text": [
      "=================Train=================\n",
      "recall: grapheme 0.9995318293260321, vowel 0.9993797740157163, consonant 0.9991470879353974, total 0.9993976301507945\n"
     ]
    },
    {
     "name": "stderr",
     "output_type": "stream",
     "text": [
      "2511it [01:41, 24.73it/s]                          "
     ]
    },
    {
     "name": "stdout",
     "output_type": "stream",
     "text": [
      "=================VALID============\n",
      "recall: grapheme 0.9511367052931412, vowel 0.9804174625160738, consonant 0.9765127422296646, total 0.9648009038330051\n",
      "Epoch    16: reducing learning rate of group 0 to 9.0000e-06.\n",
      "[15/25] train_loss: 0.00072 train_score: 0.99940 valid_loss: 0.07302 valid_score: 0.96480\n",
      "Early stopping\n"
     ]
    },
    {
     "name": "stderr",
     "output_type": "stream",
     "text": [
      "\n"
     ]
    }
   ],
   "source": [
    "best_score = -1\n",
    "es = 0\n",
    "for epoch in range(EPOCHS):\n",
    "    train_loss, train_score = train(train_dataset,train_loader, model, optimizer)\n",
    "    val_loss, val_score = evaluate(valid_dataset, valid_loader, model)\n",
    "    \n",
    "    scheduler.step(val_loss)\n",
    "\n",
    "    \n",
    "    if val_score > best_score:\n",
    "            best_score = val_score\n",
    "            es = 0\n",
    "            torch.save(model.state_dict(), f\"resnet18_fold{VALIDATION_FOLDS[0]}.pth\")\n",
    "    else:\n",
    "        es += 1\n",
    "\n",
    "    epoch_len = len(str(EPOCHS))\n",
    "    print_msg = (f'[{epoch:>{epoch_len}}/{EPOCHS:>{epoch_len}}] ' +\n",
    "                 f'train_loss: {train_loss:.5f} ' +\n",
    "                 f'train_score: {train_score:.5f} ' +\n",
    "                 f'valid_loss: {val_loss:.5f} ' +\n",
    "                 f'valid_score: {val_score:.5f}'\n",
    "                )\n",
    "\n",
    "    print(print_msg)\n",
    "    if es > 4:\n",
    "        print(\"Early stopping\")\n",
    "        break"
   ]
  },
  {
   "cell_type": "code",
   "execution_count": null,
   "metadata": {},
   "outputs": [],
   "source": []
  },
  {
   "cell_type": "code",
   "execution_count": null,
   "metadata": {},
   "outputs": [],
   "source": []
  }
 ],
 "metadata": {
  "kernelspec": {
   "display_name": "Python 3",
   "language": "python",
   "name": "python3"
  },
  "language_info": {
   "codemirror_mode": {
    "name": "ipython",
    "version": 3
   },
   "file_extension": ".py",
   "mimetype": "text/x-python",
   "name": "python",
   "nbconvert_exporter": "python",
   "pygments_lexer": "ipython3",
   "version": "3.6.8"
  }
 },
 "nbformat": 4,
 "nbformat_minor": 4
}
